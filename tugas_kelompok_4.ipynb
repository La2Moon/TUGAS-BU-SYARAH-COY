{
  "nbformat": 4,
  "nbformat_minor": 0,
  "metadata": {
    "colab": {
      "provenance": [],
      "include_colab_link": true
    },
    "kernelspec": {
      "name": "python3",
      "display_name": "Python 3"
    },
    "language_info": {
      "name": "python"
    }
  },
  "cells": [
    {
      "cell_type": "markdown",
      "metadata": {
        "id": "view-in-github",
        "colab_type": "text"
      },
      "source": [
        "<a href=\"https://colab.research.google.com/github/La2Moon/TUGAS-BU-SYARAH-COY/blob/main/tugas_kelompok_4.ipynb\" target=\"_parent\"><img src=\"https://colab.research.google.com/assets/colab-badge.svg\" alt=\"Open In Colab\"/></a>"
      ]
    },
    {
      "cell_type": "code",
      "execution_count": null,
      "metadata": {
        "id": "sA61hoB_6asD"
      },
      "outputs": [],
      "source": [
        "import matplotlib.pyplot as plt\n",
        "\n",
        "# Data\n",
        "jenis_makanan = ['Pizza', 'Burger', 'Pasta', 'Salad', 'Steak', 'Sushi', 'Chicken Wings', 'Tacos', 'Nasi Goreng', 'Kebab', 'Fish and Chips', 'Ramen', 'Dim Sum', 'Satay', 'Sate Padang']\n",
        "jumlah_pelanggan = [30, 25, 20, 15, 12, 10, 8, 7, 6, 5, 4, 3, 3, 2, 1]\n",
        "\n",
        "# Plot\n",
        "plt.figure(figsize=(10, 8))\n",
        "plt.pie(jumlah_pelanggan, labels=jenis_makanan, autopct='%1.1f%%', startangle=140)\n",
        "plt.title('Preferensi Makanan Pelanggan Restoran')\n",
        "plt.axis('equal')  # Equal aspect ratio ensures that pie is drawn as a circle.\n",
        "\n",
        "# Tampilkan chart\n",
        "plt.show()\n"
      ]
    }
  ]
}