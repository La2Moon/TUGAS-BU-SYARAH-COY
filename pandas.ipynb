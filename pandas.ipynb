{
  "nbformat": 4,
  "nbformat_minor": 0,
  "metadata": {
    "colab": {
      "provenance": [],
      "authorship_tag": "ABX9TyOBs6Eg34nL4cSeEdDH5Xzz",
      "include_colab_link": true
    },
    "kernelspec": {
      "name": "python3",
      "display_name": "Python 3"
    },
    "language_info": {
      "name": "python"
    }
  },
  "cells": [
    {
      "cell_type": "markdown",
      "metadata": {
        "id": "view-in-github",
        "colab_type": "text"
      },
      "source": [
        "<a href=\"https://colab.research.google.com/github/La2Moon/TUGAS-BU-SYARAH-COY/blob/main/pandas.ipynb\" target=\"_parent\"><img src=\"https://colab.research.google.com/assets/colab-badge.svg\" alt=\"Open In Colab\"/></a>"
      ]
    },
    {
      "cell_type": "code",
      "execution_count": 1,
      "metadata": {
        "colab": {
          "base_uri": "https://localhost:8080/"
        },
        "id": "EYNK7xmQPW2E",
        "outputId": "abb3ac34-5d2a-4987-bb4d-1d26bef97f06"
      },
      "outputs": [
        {
          "output_type": "stream",
          "name": "stdout",
          "text": [
            "Requirement already satisfied: pandas in /usr/local/lib/python3.10/dist-packages (1.5.3)\n",
            "Requirement already satisfied: python-dateutil>=2.8.1 in /usr/local/lib/python3.10/dist-packages (from pandas) (2.8.2)\n",
            "Requirement already satisfied: pytz>=2020.1 in /usr/local/lib/python3.10/dist-packages (from pandas) (2023.4)\n",
            "Requirement already satisfied: numpy>=1.21.0 in /usr/local/lib/python3.10/dist-packages (from pandas) (1.25.2)\n",
            "Requirement already satisfied: six>=1.5 in /usr/local/lib/python3.10/dist-packages (from python-dateutil>=2.8.1->pandas) (1.16.0)\n"
          ]
        }
      ],
      "source": [
        "pip install pandas"
      ]
    },
    {
      "cell_type": "code",
      "source": [
        "import pandas as pd\n",
        "import numpy as np"
      ],
      "metadata": {
        "id": "kqXD8ITQP3Z-"
      },
      "execution_count": 5,
      "outputs": []
    },
    {
      "cell_type": "markdown",
      "source": [
        "TUGAS PERTEMUAN 3 PART 1"
      ],
      "metadata": {
        "id": "qwLoS55qTCxx"
      }
    },
    {
      "cell_type": "code",
      "source": [
        "import pandas as pd\n",
        "\n",
        "# Define the data\n",
        "data = {\n",
        "    'Name': ['Arfian Purnama', 'Alisa Dityaningrum', 'Kiki Anggraeni', 'Rizky Kurniawan'],\n",
        "    'Gender': ['Laki-laki', 'Perempuan', 'Perempuan', 'Laki-laki'],\n",
        "    'No Telepon': ['081267001022', '087823560918', '089654009102', '082267018967'],\n",
        "    'Tugas': [80, 89, 76, 80],\n",
        "    'UTS': [88, 78, 90, 81],\n",
        "    'UAS': [90, 89, 85, 82]}\n",
        "\n",
        "\n",
        "# Create the dataframe\n",
        "df = pd.DataFrame(data)\n",
        "\n",
        "\n",
        "# Display the dataframe\n",
        "print(df)"
      ],
      "metadata": {
        "id": "vZqEgSGSUw6I"
      },
      "execution_count": null,
      "outputs": []
    },
    {
      "cell_type": "markdown",
      "source": [
        "TUGAS PERTEMUAN 3 PART 2"
      ],
      "metadata": {
        "id": "LmxYOsbfptWQ"
      }
    },
    {
      "cell_type": "code",
      "source": [
        "# Define the data\n",
        "data = {'Name': ['Arfian Purnama', 'Alisa Dityaningrum', 'Kiki Anggraeni', 'Rizky Kurniawan'],\n",
        "        'Gender': ['Laki-laki', 'Perempuan', 'Perempuan', 'Laki-laki'],\n",
        "        'No Telepon': ['081267001022', '087823560918', '089654009102', '082267018967'],\n",
        "        'Tugas': [80, 89, 76, 80],\n",
        "        'UTS': [88, 78, 90, 81],\n",
        "        'UAS': [90, 89, 85, 82]}\n",
        "\n",
        "# Create the DataFrame\n",
        "df = pd.DataFrame(data)\n",
        "\n",
        "# Calculate the final grade\n",
        "df['Nilai Akhir'] = (0.3 * df['Tugas'] + 0.3 * df['UTS'] + 0.4 * df['UAS']).round(2)\n",
        "\n",
        "# Display the DataFrame\n",
        "print(df)"
      ],
      "metadata": {
        "id": "h2vWuZSRopkm"
      },
      "execution_count": null,
      "outputs": []
    },
    {
      "cell_type": "code",
      "source": [
        "#series\n",
        "number_list = pd.Series([1,2,3,4,5,6])\n",
        "#DataFrame\n",
        "matrix_list = pd.DataFrame([[1,2,3],\n",
        "                           ['a','b','c'],\n",
        "                           [3,4,5],\n",
        "                           ['d',4,6]])\n",
        "#method.info\n",
        "print(\"[1] methond.info()\")\n",
        "print(matrix_list.info())\n",
        "#[2] atribute.shape\n",
        "print(\"\\n[2] attribute .shape\")\n",
        "print(\"     Shape dari number_list:\", number_list.shape)\n",
        "print(\"     Shape dari number_list:\", number_list.shape)\n",
        "#[3] attrubute .dtypes\n",
        "print(\"\\n[3] attribute .dtypes\")\n",
        "print(\"     Tipe data number_list:\", number_list.dtypes)\n",
        "print(\"     Tipe data number_list:\", number_list.dtypes)\n",
        "#[4] attribute .astypes\n",
        "print (\"\\n[4] method ,astype()\")\n",
        "print (\"    konversi number_list ke str:\", number_list.astype(\"str\"))\n",
        "print (\"    koversi matrix_list ke str:\", matrix_list.astype(\"str\"))\n"
      ],
      "metadata": {
        "colab": {
          "base_uri": "https://localhost:8080/"
        },
        "id": "yh32lK1lZXtT",
        "outputId": "9f0571bb-f4af-44be-d464-21932c7cf7fc"
      },
      "execution_count": 21,
      "outputs": [
        {
          "output_type": "stream",
          "name": "stdout",
          "text": [
            "[1] methond.info()\n",
            "<class 'pandas.core.frame.DataFrame'>\n",
            "RangeIndex: 4 entries, 0 to 3\n",
            "Data columns (total 3 columns):\n",
            " #   Column  Non-Null Count  Dtype \n",
            "---  ------  --------------  ----- \n",
            " 0   0       4 non-null      object\n",
            " 1   1       4 non-null      object\n",
            " 2   2       4 non-null      object\n",
            "dtypes: object(3)\n",
            "memory usage: 224.0+ bytes\n",
            "None\n",
            "\n",
            "[2] attribute .shape\n",
            "     Shape dari number_list: (6,)\n",
            "     Shape dari number_list: (6,)\n",
            "\n",
            "[3] attribute .dtypes\n",
            "     Tipe data number_list: int64\n",
            "     Tipe data number_list: int64\n",
            "\n",
            "[4] method ,astype()\n",
            "    konversi number_list ke str: 0    1\n",
            "1    2\n",
            "2    3\n",
            "3    4\n",
            "4    5\n",
            "5    6\n",
            "dtype: object\n",
            "    koversi matrix_list ke str:    0  1  2\n",
            "0  1  2  3\n",
            "1  a  b  c\n",
            "2  3  4  5\n",
            "3  d  4  6\n"
          ]
        }
      ]
    }
  ]
}